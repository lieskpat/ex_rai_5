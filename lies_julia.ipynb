{
 "cells": [
  {
   "cell_type": "code",
   "execution_count": 218,
   "metadata": {},
   "outputs": [
    {
     "data": {
      "text/plain": [
       "2×4 Array{Float64,2}:\n",
       " 0.180234  0.265405  0.490314  0.593984\n",
       " 0.595502  0.369541  0.878594  0.879981"
      ]
     },
     "metadata": {},
     "output_type": "display_data"
    },
    {
     "data": {
      "text/plain": [
       "0.8799810919373543"
      ]
     },
     "execution_count": 218,
     "metadata": {},
     "output_type": "execute_result"
    }
   ],
   "source": [
    "A = rand(2, 4)\n",
    "display(A)\n",
    "maximum(A)"
   ]
  },
  {
   "cell_type": "code",
   "execution_count": 219,
   "metadata": {},
   "outputs": [
    {
     "data": {
      "text/plain": [
       "2×2 Array{Int64,2}:\n",
       " 1  5\n",
       " 1  4"
      ]
     },
     "metadata": {},
     "output_type": "display_data"
    },
    {
     "data": {
      "text/plain": [
       "2×2 Array{Int64,2}:\n",
       " 3  0\n",
       " 2  4"
      ]
     },
     "metadata": {},
     "output_type": "display_data"
    },
    {
     "data": {
      "text/plain": [
       "2×2 Array{Int64,2}:\n",
       " 4  5\n",
       " 3  8"
      ]
     },
     "metadata": {},
     "output_type": "display_data"
    },
    {
     "data": {
      "text/plain": [
       "2×2 Array{Int64,2}:\n",
       " -2  5\n",
       " -1  0"
      ]
     },
     "metadata": {},
     "output_type": "display_data"
    }
   ],
   "source": [
    "A = rand(0:5, 2, 2)\n",
    "B = rand(0:5, 2, 2)\n",
    "display(A)\n",
    "display(B)\n",
    "display(A + B)\n",
    "display(A - B)"
   ]
  },
  {
   "cell_type": "code",
   "execution_count": 220,
   "metadata": {},
   "outputs": [
    {
     "data": {
      "text/plain": [
       "2×2 Array{Int64,2}:\n",
       " 1  0\n",
       " 3  5"
      ]
     },
     "metadata": {},
     "output_type": "display_data"
    },
    {
     "data": {
      "text/plain": [
       "2×2 Array{Int64,2}:\n",
       " 5  1\n",
       " 2  5"
      ]
     },
     "metadata": {},
     "output_type": "display_data"
    },
    {
     "data": {
      "text/plain": [
       "2×2 Array{Int64,2}:\n",
       "  5   1\n",
       " 25  28"
      ]
     },
     "metadata": {},
     "output_type": "display_data"
    },
    {
     "data": {
      "text/plain": [
       "2×2 Array{Int64,2}:\n",
       " 5   0\n",
       " 6  25"
      ]
     },
     "metadata": {},
     "output_type": "display_data"
    }
   ],
   "source": [
    "A = rand(0:5, 2, 2)\n",
    "B = rand(0:5, 2, 2)\n",
    "display(A)\n",
    "display(B)\n",
    "# Merke: Multiplikation von Matrizen ist nicht kommutativ (A * B != B * A)\n",
    "display(A * B)\n",
    "# .* Operator führt eine komponentenweise Multiplikation durch\n",
    "display(A .* B)"
   ]
  },
  {
   "cell_type": "code",
   "execution_count": 225,
   "metadata": {},
   "outputs": [
    {
     "data": {
      "text/plain": [
       "2×2 Array{Int64,2}:\n",
       " 2  4\n",
       " 4  5"
      ]
     },
     "metadata": {},
     "output_type": "display_data"
    },
    {
     "data": {
      "text/plain": [
       "2×2 Array{Int64,2}:\n",
       " 0  1\n",
       " 3  0"
      ]
     },
     "metadata": {},
     "output_type": "display_data"
    },
    {
     "data": {
      "text/plain": [
       "2×2 Array{Int64,2}:\n",
       " 5  2\n",
       " 2  0"
      ]
     },
     "metadata": {},
     "output_type": "display_data"
    },
    {
     "data": {
      "text/plain": [
       "-6.0"
      ]
     },
     "metadata": {},
     "output_type": "display_data"
    },
    {
     "data": {
      "text/plain": [
       "2×2 Array{Float64,2}:\n",
       "  0.666667  -0.333333\n",
       " -2.5        2.0"
      ]
     },
     "metadata": {},
     "output_type": "display_data"
    },
    {
     "data": {
      "text/plain": [
       "2×2 Array{Float64,2}:\n",
       "  0.666667  -0.333333\n",
       " -2.5        2.0"
      ]
     },
     "metadata": {},
     "output_type": "display_data"
    },
    {
     "data": {
      "text/plain": [
       "-4.0"
      ]
     },
     "metadata": {},
     "output_type": "display_data"
    },
    {
     "data": {
      "text/plain": [
       "2×2 Array{Float64,2}:\n",
       "  1.5   0.0\n",
       " -3.75  0.5"
      ]
     },
     "metadata": {},
     "output_type": "display_data"
    },
    {
     "data": {
      "text/plain": [
       "2×2 Array{Float64,2}:\n",
       "  1.5   0.0\n",
       " -3.75  0.5"
      ]
     },
     "metadata": {},
     "output_type": "display_data"
    }
   ],
   "source": [
    "using LinearAlgebra\n",
    "B = rand(0:5, 2, 2)\n",
    "C = rand(0:5, 2, 2)\n",
    "X = rand(0:5, 2, 2)\n",
    "display(B)\n",
    "display(C)\n",
    "display(X)\n",
    "# A * B = C\n",
    "# Matrix A ist unbekannt\n",
    "# Da es bei Matrizen keine Division gibt, kann die Gleichung nur über die Inverse von B umgestellt werden\n",
    "# Das heißt die inverse Von B wird von rechts an die Gleichung multipliziert\n",
    "# C * inv(B) = A * B * inv(B)\n",
    "# c * inv(B) = A entspricht A = C / B\n",
    "# demnach sind A1 und A2 gleich\n",
    "display(det(B))\n",
    "if det(B) != 0\n",
    "    A1 = C * inv(B)\n",
    "    display(A1)\n",
    "    A2 = C / B\n",
    "    display(A2)\n",
    "else\n",
    "    println(\"det(B) = 0 -> es existiert keine Inverse von B\")\n",
    "end\n",
    "# X * B = C\n",
    "# Matrix B ist unbekannt\n",
    "# Da es bei Matrizen keine Division gibt, kann die Gleichung nur über die Inverse von A umgestellt werden\n",
    "# Das heißt die inverse Von A wird von links an die Gleichung multipliziert\n",
    "# inv(X) * X * B = inv(X) * C\n",
    "# B = inv(X) * C entspricht B = X \\ C\n",
    "# demnach sind B1 und B2 gleich\n",
    "display(det(X))\n",
    "if det(X) != 0\n",
    "    B1 = inv(X) * C\n",
    "    display(B1)\n",
    "    B2 = X \\ C\n",
    "    display(B2)\n",
    "else\n",
    "    println(\"det(X) = 0 -> es existiert keine Inverse von X\")\n",
    "end\n",
    "    \n"
   ]
  },
  {
   "cell_type": "code",
   "execution_count": 222,
   "metadata": {},
   "outputs": [
    {
     "data": {
      "text/plain": [
       "3×3 Array{Int64,2}:\n",
       " 0  2  0\n",
       " 3  3  4\n",
       " 5  5  2"
      ]
     },
     "metadata": {},
     "output_type": "display_data"
    },
    {
     "data": {
      "text/plain": [
       "3×3 Array{Int64,2}:\n",
       "  0   4  0\n",
       "  6   6  8\n",
       " 10  10  4"
      ]
     },
     "metadata": {},
     "output_type": "display_data"
    },
    {
     "data": {
      "text/plain": [
       "3×3 Array{Float64,2}:\n",
       " 0.0  1.0  0.0\n",
       " 1.5  1.5  2.0\n",
       " 2.5  2.5  1.0"
      ]
     },
     "metadata": {},
     "output_type": "display_data"
    }
   ],
   "source": [
    "A = rand(0:5, 3, 3)\n",
    "display(A)\n",
    "# Matrizen können nur addiert werden, wenn Matrix 1 die gleiche Anzahl von Zeilen und Spalten wie Matrix 2 hat\n",
    "# denn Matrizen werden komponentenweise addiert\n",
    "# display(A + 1)\n",
    "# Subtraktion -> siehe Addition\n",
    "# display(A - 1)\n",
    "# jede Komponente wird mit 2 multipliziert\n",
    "display(A * 2)\n",
    "# jede Komponente wird durch 2 dividiert\n",
    "X = A / 2\n",
    "display(X)"
   ]
  },
  {
   "cell_type": "code",
   "execution_count": 223,
   "metadata": {},
   "outputs": [
    {
     "data": {
      "text/plain": [
       "3×4 Array{Int64,2}:\n",
       " 2  5  3  4\n",
       " 5  2  4  1\n",
       " 5  0  3  1"
      ]
     },
     "metadata": {},
     "output_type": "display_data"
    },
    {
     "data": {
      "text/plain": [
       "4-element Array{Int64,1}:\n",
       " 3\n",
       " 2\n",
       " 4\n",
       " 2"
      ]
     },
     "metadata": {},
     "output_type": "display_data"
    },
    {
     "data": {
      "text/plain": [
       "3-element Array{Int64,1}:\n",
       " 36\n",
       " 37\n",
       " 29"
      ]
     },
     "metadata": {},
     "output_type": "display_data"
    }
   ],
   "source": [
    "A = rand(0:5, 3, 4)\n",
    "B = rand(0:5, 4,)\n",
    "display(A)\n",
    "display(B)\n",
    "display(A * B)\n"
   ]
  },
  {
   "cell_type": "code",
   "execution_count": null,
   "metadata": {},
   "outputs": [],
   "source": []
  }
 ],
 "metadata": {
  "kernelspec": {
   "display_name": "Julia 1.4.2",
   "language": "julia",
   "name": "julia-1.4"
  },
  "language_info": {
   "file_extension": ".jl",
   "mimetype": "application/julia",
   "name": "julia",
   "version": "1.4.2"
  }
 },
 "nbformat": 4,
 "nbformat_minor": 4
}
